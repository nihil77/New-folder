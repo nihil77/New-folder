{
 "cells": [
  {
   "cell_type": "code",
   "execution_count": 1,
   "metadata": {},
   "outputs": [],
   "source": [
    "import numpy as np\n",
    "import pandas as pd\n",
    "import math\n",
    "import seaborn as sns\n",
    "import matplotlib.pyplot as plt\n",
    "\n",
    "from sklearn.preprocessing import StandardScaler\n",
    "from sklearn.metrics import accuracy_score\n",
    "\n",
    "\n",
    "import torch\n",
    "import torch.nn as nn\n",
    "import torch.optim as optim\n",
    "from torch.utils.data import DataLoader, TensorDataset\n",
    "from sklearn.model_selection import train_test_split\n",
    "from sklearn.metrics import accuracy_score\n",
    "\n",
    "\n",
    "from sklearn.metrics import confusion_matrix, matthews_corrcoef, classification_report\n"
   ]
  },
  {
   "cell_type": "code",
   "execution_count": 2,
   "metadata": {},
   "outputs": [],
   "source": [
    "# Load the annotated dataset\n",
    "dataset = pd.read_csv('tai.csv')\n"
   ]
  },
  {
   "cell_type": "code",
   "execution_count": 3,
   "metadata": {},
   "outputs": [
    {
     "data": {
      "text/html": [
       "<div>\n",
       "<style scoped>\n",
       "    .dataframe tbody tr th:only-of-type {\n",
       "        vertical-align: middle;\n",
       "    }\n",
       "\n",
       "    .dataframe tbody tr th {\n",
       "        vertical-align: top;\n",
       "    }\n",
       "\n",
       "    .dataframe thead th {\n",
       "        text-align: right;\n",
       "    }\n",
       "</style>\n",
       "<table border=\"1\" class=\"dataframe\">\n",
       "  <thead>\n",
       "    <tr style=\"text-align: right;\">\n",
       "      <th></th>\n",
       "      <th>label</th>\n",
       "      <th>x1</th>\n",
       "      <th>y1</th>\n",
       "      <th>x2</th>\n",
       "      <th>y2</th>\n",
       "      <th>x3</th>\n",
       "      <th>y3</th>\n",
       "      <th>x4</th>\n",
       "      <th>y4</th>\n",
       "      <th>x5</th>\n",
       "      <th>...</th>\n",
       "      <th>x29</th>\n",
       "      <th>y29</th>\n",
       "      <th>x30</th>\n",
       "      <th>y30</th>\n",
       "      <th>x31</th>\n",
       "      <th>y31</th>\n",
       "      <th>x32</th>\n",
       "      <th>y32</th>\n",
       "      <th>x33</th>\n",
       "      <th>y33</th>\n",
       "    </tr>\n",
       "  </thead>\n",
       "  <tbody>\n",
       "    <tr>\n",
       "      <th>0</th>\n",
       "      <td>Tame</td>\n",
       "      <td>259</td>\n",
       "      <td>120</td>\n",
       "      <td>267</td>\n",
       "      <td>108</td>\n",
       "      <td>271</td>\n",
       "      <td>108</td>\n",
       "      <td>275</td>\n",
       "      <td>108</td>\n",
       "      <td>251</td>\n",
       "      <td>...</td>\n",
       "      <td>123</td>\n",
       "      <td>595</td>\n",
       "      <td>489</td>\n",
       "      <td>597</td>\n",
       "      <td>126</td>\n",
       "      <td>606</td>\n",
       "      <td>522</td>\n",
       "      <td>610</td>\n",
       "      <td>109</td>\n",
       "      <td>626</td>\n",
       "    </tr>\n",
       "    <tr>\n",
       "      <th>1</th>\n",
       "      <td>Bow-Arrow</td>\n",
       "      <td>207</td>\n",
       "      <td>82</td>\n",
       "      <td>210</td>\n",
       "      <td>78</td>\n",
       "      <td>211</td>\n",
       "      <td>78</td>\n",
       "      <td>213</td>\n",
       "      <td>78</td>\n",
       "      <td>209</td>\n",
       "      <td>...</td>\n",
       "      <td>177</td>\n",
       "      <td>242</td>\n",
       "      <td>281</td>\n",
       "      <td>246</td>\n",
       "      <td>184</td>\n",
       "      <td>251</td>\n",
       "      <td>273</td>\n",
       "      <td>254</td>\n",
       "      <td>159</td>\n",
       "      <td>253</td>\n",
       "    </tr>\n",
       "    <tr>\n",
       "      <th>2</th>\n",
       "      <td>Bow-Arrow</td>\n",
       "      <td>233</td>\n",
       "      <td>85</td>\n",
       "      <td>241</td>\n",
       "      <td>73</td>\n",
       "      <td>246</td>\n",
       "      <td>72</td>\n",
       "      <td>251</td>\n",
       "      <td>71</td>\n",
       "      <td>230</td>\n",
       "      <td>...</td>\n",
       "      <td>133</td>\n",
       "      <td>501</td>\n",
       "      <td>499</td>\n",
       "      <td>505</td>\n",
       "      <td>147</td>\n",
       "      <td>520</td>\n",
       "      <td>478</td>\n",
       "      <td>520</td>\n",
       "      <td>82</td>\n",
       "      <td>526</td>\n",
       "    </tr>\n",
       "    <tr>\n",
       "      <th>3</th>\n",
       "      <td>Bow-Arrow</td>\n",
       "      <td>352</td>\n",
       "      <td>124</td>\n",
       "      <td>346</td>\n",
       "      <td>114</td>\n",
       "      <td>345</td>\n",
       "      <td>114</td>\n",
       "      <td>344</td>\n",
       "      <td>114</td>\n",
       "      <td>346</td>\n",
       "      <td>...</td>\n",
       "      <td>116</td>\n",
       "      <td>409</td>\n",
       "      <td>391</td>\n",
       "      <td>409</td>\n",
       "      <td>101</td>\n",
       "      <td>411</td>\n",
       "      <td>454</td>\n",
       "      <td>406</td>\n",
       "      <td>123</td>\n",
       "      <td>433</td>\n",
       "    </tr>\n",
       "    <tr>\n",
       "      <th>4</th>\n",
       "      <td>Bow-Arrow</td>\n",
       "      <td>174</td>\n",
       "      <td>179</td>\n",
       "      <td>181</td>\n",
       "      <td>165</td>\n",
       "      <td>184</td>\n",
       "      <td>165</td>\n",
       "      <td>187</td>\n",
       "      <td>165</td>\n",
       "      <td>179</td>\n",
       "      <td>...</td>\n",
       "      <td>89</td>\n",
       "      <td>636</td>\n",
       "      <td>643</td>\n",
       "      <td>662</td>\n",
       "      <td>111</td>\n",
       "      <td>673</td>\n",
       "      <td>640</td>\n",
       "      <td>691</td>\n",
       "      <td>32</td>\n",
       "      <td>668</td>\n",
       "    </tr>\n",
       "    <tr>\n",
       "      <th>...</th>\n",
       "      <td>...</td>\n",
       "      <td>...</td>\n",
       "      <td>...</td>\n",
       "      <td>...</td>\n",
       "      <td>...</td>\n",
       "      <td>...</td>\n",
       "      <td>...</td>\n",
       "      <td>...</td>\n",
       "      <td>...</td>\n",
       "      <td>...</td>\n",
       "      <td>...</td>\n",
       "      <td>...</td>\n",
       "      <td>...</td>\n",
       "      <td>...</td>\n",
       "      <td>...</td>\n",
       "      <td>...</td>\n",
       "      <td>...</td>\n",
       "      <td>...</td>\n",
       "      <td>...</td>\n",
       "      <td>...</td>\n",
       "      <td>...</td>\n",
       "    </tr>\n",
       "    <tr>\n",
       "      <th>56</th>\n",
       "      <td>Sitting</td>\n",
       "      <td>593</td>\n",
       "      <td>347</td>\n",
       "      <td>596</td>\n",
       "      <td>327</td>\n",
       "      <td>600</td>\n",
       "      <td>325</td>\n",
       "      <td>604</td>\n",
       "      <td>323</td>\n",
       "      <td>592</td>\n",
       "      <td>...</td>\n",
       "      <td>751</td>\n",
       "      <td>634</td>\n",
       "      <td>646</td>\n",
       "      <td>564</td>\n",
       "      <td>758</td>\n",
       "      <td>614</td>\n",
       "      <td>611</td>\n",
       "      <td>592</td>\n",
       "      <td>791</td>\n",
       "      <td>674</td>\n",
       "    </tr>\n",
       "    <tr>\n",
       "      <th>57</th>\n",
       "      <td>Sitting</td>\n",
       "      <td>304</td>\n",
       "      <td>119</td>\n",
       "      <td>302</td>\n",
       "      <td>99</td>\n",
       "      <td>302</td>\n",
       "      <td>99</td>\n",
       "      <td>302</td>\n",
       "      <td>99</td>\n",
       "      <td>294</td>\n",
       "      <td>...</td>\n",
       "      <td>352</td>\n",
       "      <td>546</td>\n",
       "      <td>88</td>\n",
       "      <td>521</td>\n",
       "      <td>346</td>\n",
       "      <td>575</td>\n",
       "      <td>106</td>\n",
       "      <td>574</td>\n",
       "      <td>457</td>\n",
       "      <td>587</td>\n",
       "    </tr>\n",
       "    <tr>\n",
       "      <th>58</th>\n",
       "      <td>Sitting</td>\n",
       "      <td>277</td>\n",
       "      <td>83</td>\n",
       "      <td>284</td>\n",
       "      <td>64</td>\n",
       "      <td>287</td>\n",
       "      <td>63</td>\n",
       "      <td>290</td>\n",
       "      <td>62</td>\n",
       "      <td>282</td>\n",
       "      <td>...</td>\n",
       "      <td>531</td>\n",
       "      <td>527</td>\n",
       "      <td>256</td>\n",
       "      <td>578</td>\n",
       "      <td>548</td>\n",
       "      <td>498</td>\n",
       "      <td>160</td>\n",
       "      <td>589</td>\n",
       "      <td>554</td>\n",
       "      <td>589</td>\n",
       "    </tr>\n",
       "    <tr>\n",
       "      <th>59</th>\n",
       "      <td>Taijiquan</td>\n",
       "      <td>389</td>\n",
       "      <td>116</td>\n",
       "      <td>398</td>\n",
       "      <td>100</td>\n",
       "      <td>402</td>\n",
       "      <td>100</td>\n",
       "      <td>408</td>\n",
       "      <td>101</td>\n",
       "      <td>381</td>\n",
       "      <td>...</td>\n",
       "      <td>272</td>\n",
       "      <td>680</td>\n",
       "      <td>461</td>\n",
       "      <td>680</td>\n",
       "      <td>277</td>\n",
       "      <td>691</td>\n",
       "      <td>479</td>\n",
       "      <td>731</td>\n",
       "      <td>267</td>\n",
       "      <td>735</td>\n",
       "    </tr>\n",
       "    <tr>\n",
       "      <th>60</th>\n",
       "      <td>Tame</td>\n",
       "      <td>262</td>\n",
       "      <td>85</td>\n",
       "      <td>266</td>\n",
       "      <td>74</td>\n",
       "      <td>270</td>\n",
       "      <td>75</td>\n",
       "      <td>274</td>\n",
       "      <td>75</td>\n",
       "      <td>254</td>\n",
       "      <td>...</td>\n",
       "      <td>130</td>\n",
       "      <td>523</td>\n",
       "      <td>465</td>\n",
       "      <td>528</td>\n",
       "      <td>135</td>\n",
       "      <td>534</td>\n",
       "      <td>500</td>\n",
       "      <td>545</td>\n",
       "      <td>105</td>\n",
       "      <td>558</td>\n",
       "    </tr>\n",
       "  </tbody>\n",
       "</table>\n",
       "<p>61 rows × 67 columns</p>\n",
       "</div>"
      ],
      "text/plain": [
       "        label   x1   y1   x2   y2   x3   y3   x4   y4   x5  ...  x29  y29  \\\n",
       "0        Tame  259  120  267  108  271  108  275  108  251  ...  123  595   \n",
       "1   Bow-Arrow  207   82  210   78  211   78  213   78  209  ...  177  242   \n",
       "2   Bow-Arrow  233   85  241   73  246   72  251   71  230  ...  133  501   \n",
       "3   Bow-Arrow  352  124  346  114  345  114  344  114  346  ...  116  409   \n",
       "4   Bow-Arrow  174  179  181  165  184  165  187  165  179  ...   89  636   \n",
       "..        ...  ...  ...  ...  ...  ...  ...  ...  ...  ...  ...  ...  ...   \n",
       "56    Sitting  593  347  596  327  600  325  604  323  592  ...  751  634   \n",
       "57    Sitting  304  119  302   99  302   99  302   99  294  ...  352  546   \n",
       "58    Sitting  277   83  284   64  287   63  290   62  282  ...  531  527   \n",
       "59  Taijiquan  389  116  398  100  402  100  408  101  381  ...  272  680   \n",
       "60       Tame  262   85  266   74  270   75  274   75  254  ...  130  523   \n",
       "\n",
       "    x30  y30  x31  y31  x32  y32  x33  y33  \n",
       "0   489  597  126  606  522  610  109  626  \n",
       "1   281  246  184  251  273  254  159  253  \n",
       "2   499  505  147  520  478  520   82  526  \n",
       "3   391  409  101  411  454  406  123  433  \n",
       "4   643  662  111  673  640  691   32  668  \n",
       "..  ...  ...  ...  ...  ...  ...  ...  ...  \n",
       "56  646  564  758  614  611  592  791  674  \n",
       "57   88  521  346  575  106  574  457  587  \n",
       "58  256  578  548  498  160  589  554  589  \n",
       "59  461  680  277  691  479  731  267  735  \n",
       "60  465  528  135  534  500  545  105  558  \n",
       "\n",
       "[61 rows x 67 columns]"
      ]
     },
     "execution_count": 3,
     "metadata": {},
     "output_type": "execute_result"
    }
   ],
   "source": [
    "dataset"
   ]
  },
  {
   "cell_type": "code",
   "execution_count": 4,
   "metadata": {},
   "outputs": [
    {
     "name": "stderr",
     "output_type": "stream",
     "text": [
      "C:\\Users\\john\\AppData\\Local\\Temp\\ipykernel_12484\\4251743574.py:3: FutureWarning: DataFrame.applymap has been deprecated. Use DataFrame.map instead.\n",
      "  dataset = dataset.applymap(lambda x: x.strip() if isinstance(x, str) else x)\n"
     ]
    }
   ],
   "source": [
    "# Apply stripping function to all elements in the DataFrame\n",
    "\n",
    "dataset = dataset.applymap(lambda x: x.strip() if isinstance(x, str) else x)"
   ]
  },
  {
   "cell_type": "code",
   "execution_count": 5,
   "metadata": {},
   "outputs": [
    {
     "data": {
      "image/png": "[encoded data removed]",
      "text/plain": [
       "<IPython.core.display.Image object>"
      ]
     },
     "execution_count": 5,
     "metadata": {},
     "output_type": "execute_result"
    }
   ],
   "source": [
    "from IPython.display import Image\n",
    "\n",
    "Image(filename='33 landmarks.png') "
   ]
  },
  {
   "cell_type": "code",
   "execution_count": 6,
   "metadata": {},
   "outputs": [],
   "source": [
    "# Define a function to calculate the angle between three keypoints\n",
    "def get_angle(row, keypoint_1, keypoint_2, keypoint_3):\n",
    "    # Extract the x and y coordinates of the keypoints\n",
    "    a = np.array([row['x' + str(keypoint_1)], row['y' + str(keypoint_1)]])  # First\n",
    "    b = np.array([row['x' + str(keypoint_2)], row['y' + str(keypoint_2)]])  # Mid\n",
    "    c = np.array([row['x' + str(keypoint_3)], row['y' + str(keypoint_3)]])  # End\n",
    "\n",
    "    # Calculate the vectors between the keypoints\n",
    "    ba = a - b\n",
    "    bc = c - b\n",
    "\n",
    "    # Calculate the cosine of the angle\n",
    "    cosine_angle = np.dot(ba, bc) / (np.linalg.norm(ba) * np.linalg.norm(bc))\n",
    "\n",
    "    # Calculate the angle in degrees\n",
    "    angle = math.degrees(np.arccos(cosine_angle))\n",
    "\n",
    "    # Ensure the angle is between 0 and 180 degrees\n",
    "    if angle > 180.0:\n",
    "        angle = 360 - angle\n",
    "        \n",
    "    return angle\n",
    "\n",
    "# Define the list of keypoints you want to calculate angles for\n",
    "keypoints = [11, 12, 23, 24, 25, 26, 27, 28]\n",
    "\n",
    "# Apply the get_angle function to your DataFrame for each combination of keypoints\n",
    "dataset['angle'] = dataset.apply(lambda row: get_angle(row, keypoints[0], keypoints[1], keypoints[2]), axis=1)\n",
    "# Repeat the above line for other combinations of keypoints if needed.\n"
   ]
  },
  {
   "cell_type": "code",
   "execution_count": 7,
   "metadata": {},
   "outputs": [
    {
     "name": "stdout",
     "output_type": "stream",
     "text": [
      "        label   x1   y1   x2   y2   x3   y3   x4   y4   x5  ...  y29  x30  \\\n",
      "0        Tame  259  120  267  108  271  108  275  108  251  ...  595  489   \n",
      "1   Bow-Arrow  207   82  210   78  211   78  213   78  209  ...  242  281   \n",
      "2   Bow-Arrow  233   85  241   73  246   72  251   71  230  ...  501  499   \n",
      "3   Bow-Arrow  352  124  346  114  345  114  344  114  346  ...  409  391   \n",
      "4   Bow-Arrow  174  179  181  165  184  165  187  165  179  ...  636  643   \n",
      "..        ...  ...  ...  ...  ...  ...  ...  ...  ...  ...  ...  ...  ...   \n",
      "56    Sitting  593  347  596  327  600  325  604  323  592  ...  634  646   \n",
      "57    Sitting  304  119  302   99  302   99  302   99  294  ...  546   88   \n",
      "58    Sitting  277   83  284   64  287   63  290   62  282  ...  527  256   \n",
      "59  Taijiquan  389  116  398  100  402  100  408  101  381  ...  680  461   \n",
      "60       Tame  262   85  266   74  270   75  274   75  254  ...  523  465   \n",
      "\n",
      "    y30  x31  y31  x32  y32  x33  y33       angle  \n",
      "0   597  126  606  522  610  109  626   90.060915  \n",
      "1   246  184  251  273  254  159  253   96.326107  \n",
      "2   505  147  520  478  520   82  526  110.988630  \n",
      "3   409  101  411  454  406  123  433   50.300927  \n",
      "4   662  111  673  640  691   32  668  121.825457  \n",
      "..  ...  ...  ...  ...  ...  ...  ...         ...  \n",
      "56  564  758  614  611  592  791  674   12.482862  \n",
      "57  521  346  575  106  574  457  587  136.922935  \n",
      "58  578  548  498  160  589  554  589   31.583177  \n",
      "59  680  277  691  479  731  267  735   99.236180  \n",
      "60  528  135  534  500  545  105  558   94.039164  \n",
      "\n",
      "[61 rows x 68 columns]\n"
     ]
    }
   ],
   "source": [
    "print(dataset)"
   ]
  },
  {
   "cell_type": "code",
   "execution_count": 8,
   "metadata": {},
   "outputs": [
    {
     "name": "stdout",
     "output_type": "stream",
     "text": [
      "Number of rows: 61\n",
      "Number of columns: 68\n"
     ]
    }
   ],
   "source": [
    "# Get the number of rows and columns\n",
    "num_rows, num_columns = dataset.shape\n",
    "\n",
    "print(f'Number of rows: {num_rows}')\n",
    "print(f'Number of columns: {num_columns}')"
   ]
  },
  {
   "cell_type": "code",
   "execution_count": 9,
   "metadata": {},
   "outputs": [
    {
     "name": "stdout",
     "output_type": "stream",
     "text": [
      "['Tame' 'Bow-Arrow' 'False Stance' 'Four-Six' 'Golden Rooster'\n",
      " 'Horse Stance' 'Sitting' 'Taijiquan']\n"
     ]
    }
   ],
   "source": [
    "unique_values = dataset['label'].unique()\n",
    "print(unique_values)"
   ]
  },
  {
   "cell_type": "code",
   "execution_count": 10,
   "metadata": {},
   "outputs": [],
   "source": [
    "# Extract labels\n",
    "labels = dataset[\"label\"]\n",
    "\n",
    "# Extract keypoint data including the 'angle' column\n",
    "keypoints = dataset.drop(\"label\", axis=1).values\n"
   ]
  },
  {
   "cell_type": "code",
   "execution_count": 11,
   "metadata": {},
   "outputs": [],
   "source": [
    "# Normalize the keypoints (optional but often helpful)\n",
    "keypoints = (keypoints - keypoints.mean()) / keypoints.std()"
   ]
  },
  {
   "cell_type": "code",
   "execution_count": 12,
   "metadata": {},
   "outputs": [],
   "source": [
    "# Convert labels to numerical values (you may need to encode them appropriately)\n",
    "from sklearn.preprocessing import LabelEncoder\n",
    "\n",
    "label_encoder = LabelEncoder()\n",
    "labels = label_encoder.fit_transform(labels)\n"
   ]
  },
  {
   "cell_type": "markdown",
   "metadata": {},
   "source": [
    "Split the dataset into training and testing sets"
   ]
  },
  {
   "cell_type": "code",
   "execution_count": 13,
   "metadata": {},
   "outputs": [
    {
     "name": "stdout",
     "output_type": "stream",
     "text": [
      "(48, 67) (48,) (13, 67) (13,)\n"
     ]
    }
   ],
   "source": [
    "X_train, X_test, y_train, y_test = train_test_split(keypoints, labels, test_size=0.2, random_state=42)\n",
    "\n",
    "print(X_train.shape, y_train.shape, X_test.shape, y_test.shape)"
   ]
  },
  {
   "cell_type": "markdown",
   "metadata": {},
   "source": [
    "Define the RNN model"
   ]
  },
  {
   "cell_type": "code",
   "execution_count": 14,
   "metadata": {},
   "outputs": [],
   "source": [
    "class KeypointRNN(nn.Module):\n",
    "    def __init__(self, input_size, hidden_size, num_layers, num_classes):\n",
    "        super(KeypointRNN, self).__init__()\n",
    "        self.hidden_size = hidden_size\n",
    "        self.num_layers = num_layers\n",
    "        self.rnn = nn.RNN(input_size, hidden_size, num_layers, batch_first=True)\n",
    "        self.fc = nn.Linear(hidden_size, num_classes)\n",
    "\n",
    "    def forward(self, x):\n",
    "        h0 = torch.zeros(self.num_layers, x.size(0), self.hidden_size).to(x.device)\n",
    "        out, _ = self.rnn(x, h0)\n",
    "        out = self.fc(out[:, -1, :])  # Get the output from the last time step\n",
    "        return out\n",
    "\n",
    "# Define model hyperparameters\n",
    "input_size = 67  # The number of features in your dataset\n",
    "hidden_size = 64  # Number of units in the RNN layer\n",
    "num_layers = 10  # Number of RNN layers\n",
    "num_classes = 8\n",
    "\n",
    "# Initialize the model\n",
    "model = KeypointRNN(input_size, hidden_size, num_layers, num_classes)\n",
    "\n"
   ]
  },
  {
   "cell_type": "markdown",
   "metadata": {},
   "source": [
    "Prepare data for training"
   ]
  },
  {
   "cell_type": "code",
   "execution_count": 15,
   "metadata": {},
   "outputs": [],
   "source": [
    "# Convert the training data to PyTorch tensors\n",
    "X_train = torch.Tensor(X_train).view(-1, 1, input_size)\n",
    "y_train = torch.LongTensor(y_train)\n",
    "\n",
    "# Create a DataLoader for training\n",
    "train_data = TensorDataset(X_train, y_train)\n",
    "batch_size = 64\n",
    "train_loader = DataLoader(train_data, batch_size=batch_size, shuffle=True)\n"
   ]
  },
  {
   "cell_type": "markdown",
   "metadata": {},
   "source": [
    "Define loss function and optimizer"
   ]
  },
  {
   "cell_type": "code",
   "execution_count": 16,
   "metadata": {},
   "outputs": [],
   "source": [
    "criterion = nn.CrossEntropyLoss()\n",
    "optimizer = torch.optim.Adam(model.parameters(), lr=0.001)\n"
   ]
  },
  {
   "cell_type": "markdown",
   "metadata": {},
   "source": [
    "Train the model"
   ]
  },
  {
   "cell_type": "code",
   "execution_count": 17,
   "metadata": {},
   "outputs": [
    {
     "name": "stdout",
     "output_type": "stream",
     "text": [
      "Epoch [1/10] Loss: 2.1612\n",
      "Epoch [2/10] Loss: 2.1122\n",
      "Epoch [3/10] Loss: 2.0651\n",
      "Epoch [4/10] Loss: 2.0171\n",
      "Epoch [5/10] Loss: 1.9657\n",
      "Epoch [6/10] Loss: 1.9087\n",
      "Epoch [7/10] Loss: 1.8442\n",
      "Epoch [8/10] Loss: 1.7706\n",
      "Epoch [9/10] Loss: 1.6877\n",
      "Epoch [10/10] Loss: 1.5971\n",
      "Training complete!\n"
     ]
    }
   ],
   "source": [
    "num_epochs = 10\n",
    "\n",
    "for epoch in range(num_epochs):\n",
    "    for inputs, labels in train_loader:\n",
    "        optimizer.zero_grad()  # Zero the gradients before calculating the loss\n",
    "        outputs = model(inputs)\n",
    "        loss = criterion(outputs, labels)\n",
    "        loss.backward()\n",
    "        optimizer.step()\n",
    "\n",
    "    print(f\"Epoch [{epoch + 1}/{num_epochs}] Loss: {loss.item():.4f}\")\n",
    "\n",
    "print(\"Training complete!\")\n"
   ]
  },
  {
   "cell_type": "markdown",
   "metadata": {},
   "source": [
    "Evaluate the model"
   ]
  },
  {
   "cell_type": "code",
   "execution_count": 18,
   "metadata": {},
   "outputs": [
    {
     "name": "stdout",
     "output_type": "stream",
     "text": [
      "Test Accuracy: 53.85%\n"
     ]
    },
    {
     "data": {
      "text/plain": [
       "KeypointRNN(\n",
       "  (rnn): RNN(67, 64, num_layers=10, batch_first=True)\n",
       "  (fc): Linear(in_features=64, out_features=8, bias=True)\n",
       ")"
      ]
     },
     "execution_count": 18,
     "metadata": {},
     "output_type": "execute_result"
    }
   ],
   "source": [
    "model.eval()  # Set the model to evaluation mode\n",
    "with torch.no_grad():\n",
    "    X_test = torch.Tensor(X_test).view(-1, 1, input_size)\n",
    "    y_test = torch.LongTensor(y_test)\n",
    "    outputs = model(X_test)\n",
    "    \n",
    "    _, predicted = torch.max(outputs, 1)\n",
    "    y_true = y_test.numpy()\n",
    "    y_pred = predicted.numpy()\n",
    "\n",
    "    correct = (y_true == y_pred).sum()  # Count the number of correct predictions\n",
    "    total = len(y_test)  # Total number of predictions\n",
    "\n",
    "    accuracy = correct / total\n",
    "    print(f\"Test Accuracy: {accuracy * 100:.2f}%\")\n",
    "\n",
    "\n",
    "model.train()  # Set the model back to training mode\n"
   ]
  },
  {
   "cell_type": "code",
   "execution_count": 19,
   "metadata": {},
   "outputs": [],
   "source": [
    "class_names = [\"Class1\", \"Class2\", \"Class3\", \"Class4\", \"Class5\", \"Class6\", \"Class7\", ]\n"
   ]
  },
  {
   "cell_type": "code",
   "execution_count": 20,
   "metadata": {},
   "outputs": [
    {
     "name": "stdout",
     "output_type": "stream",
     "text": [
      "Classification Report:\n",
      "              precision    recall  f1-score   support\n",
      "\n",
      "      Class1       0.00      0.00      0.00         1\n",
      "      Class2       0.00      0.00      0.00         1\n",
      "      Class3       0.00      0.00      0.00         1\n",
      "      Class4       0.54      1.00      0.70         7\n",
      "      Class5       0.00      0.00      0.00         1\n",
      "      Class6       0.00      0.00      0.00         1\n",
      "      Class7       0.00      0.00      0.00         1\n",
      "\n",
      "    accuracy                           0.54        13\n",
      "   macro avg       0.08      0.14      0.10        13\n",
      "weighted avg       0.29      0.54      0.38        13\n",
      "\n"
     ]
    },
    {
     "data": {
      "text/plain": [
       "KeypointRNN(\n",
       "  (rnn): RNN(67, 64, num_layers=10, batch_first=True)\n",
       "  (fc): Linear(in_features=64, out_features=8, bias=True)\n",
       ")"
      ]
     },
     "execution_count": 20,
     "metadata": {},
     "output_type": "execute_result"
    }
   ],
   "source": [
    "from sklearn.metrics import classification_report\n",
    "\n",
    "model.eval()\n",
    "with torch.no_grad():\n",
    "    X_test = torch.Tensor(X_test).view(-1, 1, input_size)\n",
    "    y_test = torch.LongTensor(y_test)\n",
    "    outputs = model(X_test)\n",
    "    \n",
    "    _, predicted = torch.max(outputs, 1)\n",
    "    y_true = y_test.numpy()\n",
    "    y_pred = predicted.numpy()\n",
    "\n",
    "# Calculate classification metrics\n",
    "classification_metrics = classification_report(y_true, y_pred, target_names=class_names, zero_division=0)\n",
    "\n",
    "print(\"Classification Report:\")\n",
    "print(classification_metrics)\n",
    "\n",
    "model.train()  # Set the model back to training mode\n"
   ]
  },
  {
   "cell_type": "code",
   "execution_count": 21,
   "metadata": {},
   "outputs": [
    {
     "name": "stdout",
     "output_type": "stream",
     "text": [
      "0.0\n"
     ]
    }
   ],
   "source": [
    "from sklearn.metrics import matthews_corrcoef\n",
    "mcc = matthews_corrcoef(y_true, y_pred)\n",
    "print(mcc)"
   ]
  },
  {
   "cell_type": "code",
   "execution_count": 22,
   "metadata": {},
   "outputs": [
    {
     "data": {
      "image/png": "[encoded data removed]",
      "text/plain": [
       "<Figure size 800x600 with 2 Axes>"
      ]
     },
     "metadata": {},
     "output_type": "display_data"
    },
    {
     "data": {
      "text/plain": [
       "KeypointRNN(\n",
       "  (rnn): RNN(67, 64, num_layers=10, batch_first=True)\n",
       "  (fc): Linear(in_features=64, out_features=8, bias=True)\n",
       ")"
      ]
     },
     "execution_count": 22,
     "metadata": {},
     "output_type": "execute_result"
    }
   ],
   "source": [
    "\n",
    "# Calculate the confusion matrix\n",
    "confusion = confusion_matrix(y_true, y_pred)\n",
    "\n",
    "# Plot the confusion matrix\n",
    "plt.figure(figsize=(8, 6))\n",
    "sns.heatmap(confusion, annot=True, fmt='d', cmap='plasma', xticklabels=class_names, yticklabels=class_names)\n",
    "plt.xlabel('Predicted')\n",
    "plt.ylabel('True')\n",
    "plt.title('Confusion Matrix')\n",
    "plt.show()\n",
    "\n",
    "model.train()  # Set the model back to training mode"
   ]
  },
  {
   "cell_type": "code",
   "execution_count": 23,
   "metadata": {},
   "outputs": [],
   "source": [
    "# Specify the file path where you want to save the model\n",
    "model_path = \"keypoint_rnn_model.pth\"\n",
    "\n",
    "# Save the model's state dictionary to the specified file\n",
    "torch.save(model.state_dict(), model_path)"
   ]
  },
  {
   "cell_type": "code",
   "execution_count": 24,
   "metadata": {},
   "outputs": [
    {
     "data": {
      "text/plain": [
       "KeypointRNN(\n",
       "  (rnn): RNN(67, 64, num_layers=10, batch_first=True)\n",
       "  (fc): Linear(in_features=64, out_features=8, bias=True)\n",
       ")"
      ]
     },
     "execution_count": 24,
     "metadata": {},
     "output_type": "execute_result"
    }
   ],
   "source": [
    "# Load the saved model\n",
    "model.load_state_dict(torch.load('keypoint_rnn_model.pth'))\n",
    "model.eval()  # Set the model to evaluation mode"
   ]
  },
  {
   "cell_type": "code",
   "execution_count": 27,
   "metadata": {},
   "outputs": [
    {
     "name": "stdout",
     "output_type": "stream",
     "text": [
      "Accuracy: 53.85%\n",
      "Precision: 0.0769\n",
      "Recall: 0.1429\n",
      "F1-Score: 0.1000\n",
      "Matthews Correlation Coefficient (MCC): 0.0000\n",
      "Confusion Matrix:\n",
      "[[0 0 0 1 0 0 0]\n",
      " [0 0 0 1 0 0 0]\n",
      " [0 0 0 1 0 0 0]\n",
      " [0 0 0 7 0 0 0]\n",
      " [0 0 0 1 0 0 0]\n",
      " [0 0 0 1 0 0 0]\n",
      " [0 0 0 1 0 0 0]]\n"
     ]
    },
    {
     "name": "stderr",
     "output_type": "stream",
     "text": [
      "c:\\Users\\john\\AppData\\Local\\Programs\\Python\\Python39\\lib\\site-packages\\sklearn\\metrics\\_classification.py:1469: UndefinedMetricWarning: Precision is ill-defined and being set to 0.0 in labels with no predicted samples. Use `zero_division` parameter to control this behavior.\n",
      "  _warn_prf(average, modifier, msg_start, len(result))\n"
     ]
    },
    {
     "data": {
      "text/plain": [
       "KeypointRNN(\n",
       "  (rnn): RNN(67, 64, num_layers=10, batch_first=True)\n",
       "  (fc): Linear(in_features=64, out_features=8, bias=True)\n",
       ")"
      ]
     },
     "execution_count": 27,
     "metadata": {},
     "output_type": "execute_result"
    }
   ],
   "source": [
    "from torch.utils.data import DataLoader\n",
    "from sklearn.metrics import accuracy_score, precision_score, recall_score, f1_score, matthews_corrcoef, confusion_matrix\n",
    "\n",
    "# Load your saved model\n",
    "model = KeypointRNN(input_size, hidden_size, num_layers, num_classes)\n",
    "model.load_state_dict(torch.load('keypoint_rnn_model.pth'))\n",
    "model.eval()  # Set the model to evaluation mode\n",
    "\n",
    "# Ensure that X_test is properly formatted\n",
    "X_test = torch.Tensor(X_test).view(-1, 1, input_size)\n",
    "y_test = torch.LongTensor(y_test)\n",
    "\n",
    "# Initialize lists to store true labels and predicted labels\n",
    "true_labels = []\n",
    "predicted_labels = []\n",
    "\n",
    "# Make predictions and record true labels\n",
    "with torch.no_grad():\n",
    "    outputs = model(X_test)\n",
    "    _, predicted = torch.max(outputs, 1)\n",
    "    true_labels = y_test.numpy()\n",
    "    predicted_labels = predicted.numpy()\n",
    "\n",
    "# Calculate evaluation metrics\n",
    "accuracy = accuracy_score(true_labels, predicted_labels)\n",
    "precision = precision_score(true_labels, predicted_labels, average='macro')\n",
    "recall = recall_score(true_labels, predicted_labels, average='macro')\n",
    "f1 = f1_score(true_labels, predicted_labels, average='macro')\n",
    "mcc = matthews_corrcoef(true_labels, predicted_labels)\n",
    "confusion = confusion_matrix(true_labels, predicted_labels)\n",
    "\n",
    "# Print the evaluation results\n",
    "print(f\"Accuracy: {accuracy * 100:.2f}%\")\n",
    "print(f\"Precision: {precision:.4f}\")\n",
    "print(f\"Recall: {recall:.4f}\")\n",
    "print(f\"F1-Score: {f1:.4f}\")\n",
    "print(f\"Matthews Correlation Coefficient (MCC): {mcc:.4f}\")\n",
    "print(\"Confusion Matrix:\")\n",
    "print(confusion)\n",
    "\n",
    "# Optionally, you can visualize the confusion matrix or other results\n",
    "# For confusion matrix visualization, you can use libraries like Seaborn or Matplotlib\n",
    "\n",
    "# Set the model back to training mode if needed\n",
    "model.train()"
   ]
  },
  {
   "cell_type": "code",
   "execution_count": null,
   "metadata": {},
   "outputs": [],
   "source": []
  }
 ],
 "metadata": {
  "kernelspec": {
   "display_name": "Python 3",
   "language": "python",
   "name": "python3"
  },
  "language_info": {
   "codemirror_mode": {
    "name": "ipython",
    "version": 3
   },
   "file_extension": ".py",
   "mimetype": "text/x-python",
   "name": "python",
   "nbconvert_exporter": "python",
   "pygments_lexer": "ipython3",
   "version": "3.9.13"
  }
 },
 "nbformat": 4,
 "nbformat_minor": 2
}
