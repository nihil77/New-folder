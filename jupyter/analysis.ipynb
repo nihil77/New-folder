{
 "cells": [
  {
   "cell_type": "code",
   "execution_count": 1,
   "metadata": {},
   "outputs": [],
   "source": [
    "#%pip install pandas\n",
    "#%pip install scikit-learn\n"
   ]
  },
  {
   "cell_type": "code",
   "execution_count": 2,
   "metadata": {},
   "outputs": [],
   "source": [
    "#Load the Dataset\n",
    "import pandas as pd\n"
   ]
  },
  {
   "cell_type": "code",
   "execution_count": 3,
   "metadata": {},
   "outputs": [],
   "source": [
    "# Load your dataset\n",
    "dataset_path = 'C:/Users/john/Desktop/New folder/dataset_taijiquan/dataset.csv'\n",
    "df = pd.read_csv(dataset_path)\n"
   ]
  },
  {
   "cell_type": "code",
   "execution_count": 4,
   "metadata": {},
   "outputs": [
    {
     "name": "stdout",
     "output_type": "stream",
     "text": [
      "   label                                 x1    y1    x2    y2    x3    y3    \\\n",
      "0  annotated                              259   120   267   108   271   108   \n",
      "1  False stance 1.jpg.json                194    88   189    79   188    79   \n",
      "2  Four-Six stance 1.jpg.json             155   124   159   116   161   115   \n",
      "3  Golden Rooster Stance 1.jpg.json       433   117   427   101   427   100   \n",
      "4  Horse stance 1.jpg.json                203    57   207    49   210    49   \n",
      "\n",
      "   x4    y4    x5    ...  x29   y29   x30   y30   x31   y31   x32   y32   \\\n",
      "0   275   108   252  ...   123   595   486   597   126   606   524   610   \n",
      "1   188    79   187  ...   158   471   232   322   145   487   284   349   \n",
      "2   164   115   150  ...   147   274   337   275   156   283   354   263   \n",
      "3   426    99   424  ...   457   456   312   711   432   468   405   719   \n",
      "4   213    50   198  ...   133   360   261   368   136   370   281   381   \n",
      "\n",
      "   x33   y33  \n",
      "0   109  626  \n",
      "1   196  490  \n",
      "2   128  289  \n",
      "3   496  522  \n",
      "4   119  384  \n",
      "\n",
      "[5 rows x 67 columns]\n"
     ]
    }
   ],
   "source": [
    "print(df.head())\n"
   ]
  },
  {
   "cell_type": "code",
   "execution_count": 5,
   "metadata": {},
   "outputs": [
    {
     "data": {
      "text/plain": [
       "(17, 67)"
      ]
     },
     "execution_count": 5,
     "metadata": {},
     "output_type": "execute_result"
    }
   ],
   "source": [
    "df.shape"
   ]
  },
  {
   "cell_type": "code",
   "execution_count": 6,
   "metadata": {},
   "outputs": [
    {
     "name": "stdout",
     "output_type": "stream",
     "text": [
      "Missing Values:\n",
      "label                                   0\n",
      "x1                                      0\n",
      "y1                                      0\n",
      "x2                                      0\n",
      "y2                                      0\n",
      "                                       ..\n",
      "y31                                     0\n",
      "x32                                     0\n",
      "y32                                     0\n",
      "x33                                     0\n",
      "y33                                     0\n",
      "Length: 67, dtype: int64\n"
     ]
    }
   ],
   "source": [
    "# Check for missing values\n",
    "missing_values = df.isnull().sum()\n",
    "print(\"Missing Values:\")\n",
    "print(missing_values)"
   ]
  },
  {
   "cell_type": "code",
   "execution_count": 7,
   "metadata": {},
   "outputs": [
    {
     "data": {
      "text/plain": [
       "label                                   object\n",
       "x1                                       int64\n",
       "y1                                       int64\n",
       "x2                                       int64\n",
       "y2                                       int64\n",
       "                                         ...  \n",
       "y31                                      int64\n",
       "x32                                      int64\n",
       "y32                                      int64\n",
       "x33                                      int64\n",
       "y33                                      int64\n",
       "Length: 67, dtype: object"
      ]
     },
     "execution_count": 7,
     "metadata": {},
     "output_type": "execute_result"
    }
   ],
   "source": [
    "df.dtypes\n"
   ]
  },
  {
   "cell_type": "code",
   "execution_count": 8,
   "metadata": {},
   "outputs": [],
   "source": [
    "# Check for White Spaces\n",
    "df.columns = df.columns.str.strip()"
   ]
  },
  {
   "cell_type": "code",
   "execution_count": 9,
   "metadata": {},
   "outputs": [],
   "source": [
    "# Reset the Index\n",
    "df = df.reset_index()\n"
   ]
  },
  {
   "cell_type": "code",
   "execution_count": 10,
   "metadata": {},
   "outputs": [],
   "source": [
    "# Use the inplace Parameter\n",
    "df.sort_values('label', inplace=True)\n"
   ]
  },
  {
   "cell_type": "code",
   "execution_count": 11,
   "metadata": {},
   "outputs": [],
   "source": [
    "from sklearn.preprocessing import LabelEncoder\n",
    "\n",
    "# Initialize the LabelEncoder\n",
    "label_encoder = LabelEncoder()\n",
    "\n",
    "# Fit and transform the label column to numerical values\n",
    "df['label'] = label_encoder.fit_transform(df['label'])\n"
   ]
  },
  {
   "cell_type": "code",
   "execution_count": 12,
   "metadata": {},
   "outputs": [],
   "source": [
    "columns_to_remove = ['index']\n",
    "df = df.drop(columns=columns_to_remove)\n"
   ]
  },
  {
   "cell_type": "code",
   "execution_count": 13,
   "metadata": {},
   "outputs": [
    {
     "name": "stdout",
     "output_type": "stream",
     "text": [
      "    label   x1   y1   x2   y2   x3   y3   x4   y4   x5  ...  x29  y29  x30  \\\n",
      "1       0  194   88  189   79  188   79  188   79  187  ...  158  471  232   \n",
      "2       1  155  124  159  116  161  115  164  115  150  ...  147  274  337   \n",
      "3       2  433  117  427  101  427  100  426   99  424  ...  457  456  312   \n",
      "4       3  203   57  207   49  210   49  213   50  198  ...  133  360  261   \n",
      "5       4  206   83  212   74  217   74  221   75  199  ...   76  429  303   \n",
      "6       5  199   70  204   61  207   61  210   61  195  ...  115  334  277   \n",
      "7       6  190  115  196  107  198  107  201  107  187  ...   77  319  298   \n",
      "8       7  184   84  189   79  193   80  197   81  178  ...   85  352  317   \n",
      "9       8  188   83  192   77  194   77  196   77  184  ...   94  303  278   \n",
      "10      9  390   95  396   82  400   81  404   81  382  ...  209  448  536   \n",
      "11     10  215   72  220   62  224   62  227   62  209  ...   94  407  325   \n",
      "12     11  122   68  128   61  132   60  135   60  121  ...   53  293  235   \n",
      "13     12  136  104  139   99  141   99  143   99  133  ...   87  325  186   \n",
      "14     13  207   82  210   78  211   78  213   78  209  ...  177  242  281   \n",
      "15     14  599  194  595  173  594  173  594  171  587  ...  191  906  625   \n",
      "16     15  389  116  398  100  402  100  408  101  381  ...  272  680  461   \n",
      "0      16  259  120  267  108  271  108  275  108  252  ...  123  595  486   \n",
      "\n",
      "    y30  x31  y31  x32  y32  x33  y33  \n",
      "1   322  145  487  284  349  196  490  \n",
      "2   275  156  283  354  263  128  289  \n",
      "3   711  432  468  405  719  496  522  \n",
      "4   368  136  370  281  381  119  384  \n",
      "5   452   86  451  372  457   20  447  \n",
      "6   348  118  341  287  370  107  361  \n",
      "7   327   85  330  332  338   44  336  \n",
      "8   369   92  369  358  377   55  392  \n",
      "9   313  100  313  317  318   64  319  \n",
      "10  458  220  456  595  497  161  486  \n",
      "11  426  107  424  389  429   45  428  \n",
      "12  308   62  304  248  321   20  312  \n",
      "13  324   85  332  197  338   77  347  \n",
      "14  246  184  251  273  254  159  253  \n",
      "15  899  172  926  730  936  217  982  \n",
      "16  680  277  691  479  731  267  735  \n",
      "0   597  126  606  524  610  109  626  \n",
      "\n",
      "[17 rows x 67 columns]\n"
     ]
    }
   ],
   "source": [
    "print(df)"
   ]
  },
  {
   "cell_type": "code",
   "execution_count": 14,
   "metadata": {},
   "outputs": [],
   "source": [
    "# Split the dataset into features (X) and labels (y)\n",
    "X = df.drop(columns=['label'])  # Features (33 landmarks)\n",
    "y = df['label']  # Labels (numerical)"
   ]
  },
  {
   "cell_type": "code",
   "execution_count": 15,
   "metadata": {},
   "outputs": [
    {
     "data": {
      "text/plain": [
       "17"
      ]
     },
     "execution_count": 15,
     "metadata": {},
     "output_type": "execute_result"
    }
   ],
   "source": [
    "len(df['label'].unique())"
   ]
  },
  {
   "cell_type": "code",
   "execution_count": 16,
   "metadata": {},
   "outputs": [],
   "source": [
    "from sklearn.model_selection import train_test_split\n",
    "\n",
    "# Split the dataset into training and testing sets\n",
    "X_train, X_test, y_train, y_test = train_test_split(X, y, test_size=0.2, random_state=42)"
   ]
  },
  {
   "cell_type": "code",
   "execution_count": 17,
   "metadata": {},
   "outputs": [
    {
     "name": "stdout",
     "output_type": "stream",
     "text": [
      "Epoch 1/10\n",
      "1/1 [==============================] - 7s 7s/step - loss: 285.9607 - accuracy: 0.0769 - val_loss: 322.2430 - val_accuracy: 0.0000e+00\n",
      "Epoch 2/10\n",
      "1/1 [==============================] - 0s 139ms/step - loss: 218.3242 - accuracy: 0.0769 - val_loss: 246.5491 - val_accuracy: 0.0000e+00\n",
      "Epoch 3/10\n",
      "1/1 [==============================] - 0s 97ms/step - loss: 152.5091 - accuracy: 0.0769 - val_loss: 181.0708 - val_accuracy: 0.0000e+00\n",
      "Epoch 4/10\n",
      "1/1 [==============================] - 0s 65ms/step - loss: 119.4920 - accuracy: 0.0000e+00 - val_loss: 166.3872 - val_accuracy: 0.0000e+00\n",
      "Epoch 5/10\n",
      "1/1 [==============================] - 0s 76ms/step - loss: 115.1852 - accuracy: 0.0000e+00 - val_loss: 152.5699 - val_accuracy: 0.0000e+00\n",
      "Epoch 6/10\n",
      "1/1 [==============================] - 0s 105ms/step - loss: 109.1759 - accuracy: 0.0000e+00 - val_loss: 137.4235 - val_accuracy: 0.0000e+00\n",
      "Epoch 7/10\n",
      "1/1 [==============================] - 0s 74ms/step - loss: 101.6282 - accuracy: 0.0769 - val_loss: 124.8548 - val_accuracy: 0.0000e+00\n",
      "Epoch 8/10\n",
      "1/1 [==============================] - 0s 78ms/step - loss: 92.1007 - accuracy: 0.0000e+00 - val_loss: 114.3550 - val_accuracy: 0.0000e+00\n",
      "Epoch 9/10\n",
      "1/1 [==============================] - 0s 82ms/step - loss: 81.9062 - accuracy: 0.0000e+00 - val_loss: 110.6763 - val_accuracy: 0.0000e+00\n",
      "Epoch 10/10\n",
      "1/1 [==============================] - 0s 82ms/step - loss: 71.4145 - accuracy: 0.0769 - val_loss: 110.4256 - val_accuracy: 0.0000e+00\n",
      "1/1 [==============================] - 0s 68ms/step - loss: 110.4256 - accuracy: 0.0000e+00\n",
      "Test loss: 110.42559814453125\n",
      "Test accuracy: 0.0\n"
     ]
    }
   ],
   "source": [
    "from tensorflow import keras\n",
    "from tensorflow.keras import layers\n",
    "import numpy as np\n",
    "\n",
    "# Define constants\n",
    "NUM_KEYPOINTS = 33  # Number of keypoints in your dataset\n",
    "NUM_CLASSES = 17  # Number of stance classes you want to classify\n",
    "\n",
    "# Define your neural network model\n",
    "model = keras.Sequential([\n",
    "    layers.Input(shape=(NUM_KEYPOINTS * 2,)),  # Input shape matches the number of keypoints\n",
    "    layers.Dense(64, activation='relu'),\n",
    "    layers.Dense(32, activation='relu'),\n",
    "    layers.Dense(NUM_CLASSES, activation='softmax')\n",
    "])\n",
    "\n",
    "# Compile the model\n",
    "model.compile(optimizer='adam', loss='sparse_categorical_crossentropy', metrics=['accuracy'])\n",
    "\n",
    "# Train the model\n",
    "model.fit(X_train, y_train, epochs=10, validation_data=(X_test, y_test))\n",
    "\n",
    "# Evaluate the model on the test set\n",
    "test_loss, test_accuracy = model.evaluate(X_test, y_test)\n",
    "print(f'Test loss: {test_loss}')\n",
    "print(f'Test accuracy: {test_accuracy}')"
   ]
  },
  {
   "cell_type": "code",
   "execution_count": 18,
   "metadata": {},
   "outputs": [
    {
     "name": "stdout",
     "output_type": "stream",
     "text": [
      "Model: \"sequential\"\n",
      "_________________________________________________________________\n",
      " Layer (type)                Output Shape              Param #   \n",
      "=================================================================\n",
      " dense (Dense)               (None, 64)                4288      \n",
      "                                                                 \n",
      " dense_1 (Dense)             (None, 32)                2080      \n",
      "                                                                 \n",
      " dense_2 (Dense)             (None, 17)                561       \n",
      "                                                                 \n",
      "=================================================================\n",
      "Total params: 6929 (27.07 KB)\n",
      "Trainable params: 6929 (27.07 KB)\n",
      "Non-trainable params: 0 (0.00 Byte)\n",
      "_________________________________________________________________\n"
     ]
    }
   ],
   "source": [
    "model.summary()"
   ]
  },
  {
   "cell_type": "code",
   "execution_count": null,
   "metadata": {},
   "outputs": [],
   "source": []
  }
 ],
 "metadata": {
  "kernelspec": {
   "display_name": "Python 3",
   "language": "python",
   "name": "python3"
  },
  "language_info": {
   "codemirror_mode": {
    "name": "ipython",
    "version": 3
   },
   "file_extension": ".py",
   "mimetype": "text/x-python",
   "name": "python",
   "nbconvert_exporter": "python",
   "pygments_lexer": "ipython3",
   "version": "3.9.13"
  }
 },
 "nbformat": 4,
 "nbformat_minor": 2
}
