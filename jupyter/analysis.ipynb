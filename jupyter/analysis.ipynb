{
 "cells": [
  {
   "cell_type": "code",
   "execution_count": 28,
   "metadata": {},
   "outputs": [],
   "source": [
    "#Load the Dataset\n",
    "\n",
    "#%pip install pandas\n",
    "#%pip install scikit-learn\n",
    "\n",
    "import pandas as pd\n"
   ]
  },
  {
   "cell_type": "code",
   "execution_count": 29,
   "metadata": {},
   "outputs": [
    {
     "name": "stdout",
     "output_type": "stream",
     "text": [
      "Index(['label                                     ', 'x1  ', 'y1  ', 'x2  ',\n",
      "       'y2  ', 'x3  ', 'y3  ', 'x4  ', 'y4  ', 'x5  ', 'y5  ', 'x6  ', 'y6  ',\n",
      "       'x7  ', 'y7  ', 'x8  ', 'y8  ', 'x9  ', 'y9  ', 'x10 ', 'y10 ', 'x11 ',\n",
      "       'y11 ', 'x12 ', 'y12 ', 'x13 ', 'y13 ', 'x14 ', 'y14 ', 'x15 ', 'y15 ',\n",
      "       'x16 ', 'y16 ', 'x17 ', 'y17 ', 'x18 ', 'y18 ', 'x19 ', 'y19 ', 'x20 ',\n",
      "       'y20 ', 'x21 ', 'y21 ', 'x22 ', 'y22 ', 'x23 ', 'y23 ', 'x24 ', 'y24 ',\n",
      "       'x25 ', 'y25 ', 'x26 ', 'y26 ', 'x27 ', 'y27 ', 'x28 ', 'y28 ', 'x29 ',\n",
      "       'y29 ', 'x30 ', 'y30 ', 'x31 ', 'y31 ', 'x32 ', 'y32 ', 'x33 ', 'y33'],\n",
      "      dtype='object')\n"
     ]
    }
   ],
   "source": [
    "# Read the data from a csv\n",
    "dataset_path = 'dataset.csv'\n",
    "df = pd.read_csv(dataset_path)\n",
    "print(df.columns)"
   ]
  },
  {
   "cell_type": "code",
   "execution_count": 30,
   "metadata": {},
   "outputs": [
    {
     "name": "stdout",
     "output_type": "stream",
     "text": [
      "   label                                       x1    y1    x2    y2    x3    \\\n",
      "0  annotated                                    259   120   267   108   271   \n",
      "1  Bow-Arrow Stance 1.jpg.json                  207    82   210    78   211   \n",
      "2  Bow-Arrow Stance 10.png.json                 231    84   240    72   245   \n",
      "3  Bow-Arrow Stance 2.jpg.json                  352   123   346   114   345   \n",
      "4  Bow-Arrow Stance 3.jpg.json                  172   179   181   164   183   \n",
      "\n",
      "   y3    x4    y4    x5    ...  x29   y29   x30   y30   x31   y31   x32   \\\n",
      "0   108   275   108   252  ...   123   595   486   597   126   606   524   \n",
      "1    78   213    78   209  ...   177   242   281   246   184   251   273   \n",
      "2    72   250    71   229  ...   133   501   494   504   148   520   480   \n",
      "3   113   344   113   345  ...   120   406   392   410   104   408   456   \n",
      "4   164   186   164   179  ...    90   637   642   657   112   673   636   \n",
      "\n",
      "   y32   x33   y33  \n",
      "0   610   109  626  \n",
      "1   254   159  253  \n",
      "2   517    81  529  \n",
      "3   405   127  432  \n",
      "4   694    30  670  \n",
      "\n",
      "[5 rows x 67 columns]\n"
     ]
    }
   ],
   "source": [
    "print(df.head())"
   ]
  },
  {
   "cell_type": "code",
   "execution_count": 31,
   "metadata": {},
   "outputs": [
    {
     "data": {
      "text/plain": [
       "(63, 67)"
      ]
     },
     "execution_count": 31,
     "metadata": {},
     "output_type": "execute_result"
    }
   ],
   "source": [
    "df.shape"
   ]
  },
  {
   "cell_type": "code",
   "execution_count": 32,
   "metadata": {},
   "outputs": [
    {
     "name": "stdout",
     "output_type": "stream",
     "text": [
      "Missing Values:\n",
      "label                                         0\n",
      "x1                                            0\n",
      "y1                                            0\n",
      "x2                                            0\n",
      "y2                                            0\n",
      "                                             ..\n",
      "y31                                           0\n",
      "x32                                           0\n",
      "y32                                           0\n",
      "x33                                           0\n",
      "y33                                           0\n",
      "Length: 67, dtype: int64\n"
     ]
    }
   ],
   "source": [
    "# Check for missing values\n",
    "missing_values = df.isnull().sum()\n",
    "print(\"Missing Values:\")\n",
    "print(missing_values)"
   ]
  },
  {
   "cell_type": "code",
   "execution_count": 33,
   "metadata": {},
   "outputs": [
    {
     "data": {
      "text/plain": [
       "label                                         object\n",
       "x1                                             int64\n",
       "y1                                             int64\n",
       "x2                                             int64\n",
       "y2                                             int64\n",
       "                                               ...  \n",
       "y31                                            int64\n",
       "x32                                            int64\n",
       "y32                                            int64\n",
       "x33                                            int64\n",
       "y33                                            int64\n",
       "Length: 67, dtype: object"
      ]
     },
     "execution_count": 33,
     "metadata": {},
     "output_type": "execute_result"
    }
   ],
   "source": [
    "df.dtypes\n"
   ]
  },
  {
   "cell_type": "code",
   "execution_count": 34,
   "metadata": {},
   "outputs": [],
   "source": [
    "# Check for White Spaces\n",
    "df.columns = df.columns.str.strip()"
   ]
  },
  {
   "cell_type": "code",
   "execution_count": 35,
   "metadata": {},
   "outputs": [],
   "source": [
    "# Reset the Index\n",
    "df = df.reset_index()"
   ]
  },
  {
   "cell_type": "code",
   "execution_count": 36,
   "metadata": {},
   "outputs": [],
   "source": [
    "# Use the inplace Parameter\n",
    "df.sort_values('label', inplace=True)"
   ]
  },
  {
   "cell_type": "code",
   "execution_count": 37,
   "metadata": {},
   "outputs": [],
   "source": [
    "from sklearn.preprocessing import LabelEncoder\n",
    "\n",
    "# Initialize the LabelEncoder\n",
    "label_encoder = LabelEncoder()\n",
    "\n",
    "# Fit and transform the label column to numerical values\n",
    "df['label'] = label_encoder.fit_transform(df['label'])"
   ]
  },
  {
   "cell_type": "code",
   "execution_count": 41,
   "metadata": {},
   "outputs": [
    {
     "name": "stdout",
     "output_type": "stream",
     "text": [
      "    label   x1   y1   x2   y2   x3   y3   x4   y4   x5  ...  x29  y29  x30  \\\n",
      "1       0  207   82  210   78  211   78  213   78  209  ...  177  242  281   \n",
      "2       1  231   84  240   72  245   72  250   71  229  ...  133  501  494   \n",
      "3       2  352  123  346  114  345  113  344  113  345  ...  120  406  392   \n",
      "4       3  172  179  181  164  183  164  186  164  179  ...   90  637  642   \n",
      "5       4  116   99  119   96  119   96  120   96  119  ...  105  205  216   \n",
      "..    ...  ...  ...  ...  ...  ...  ...  ...  ...  ...  ...  ...  ...  ...   \n",
      "59     58  303  120  301  100  302  100  301   99  293  ...  356  547   33   \n",
      "60     59  278   83  286   64  289   64  292   63  284  ...  535  527  249   \n",
      "61     60  389  116  398  100  402  100  408  101  381  ...  272  680  461   \n",
      "62     61  262   85  266   74  270   75  274   75  254  ...  130  523  465   \n",
      "0      62  259  120  267  108  271  108  275  108  252  ...  123  595  486   \n",
      "\n",
      "    y30  x31  y31  x32  y32  x33  y33  \n",
      "1   246  184  251  273  254  159  253  \n",
      "2   504  148  520  480  517   81  529  \n",
      "3   410  104  408  456  405  127  432  \n",
      "4   657  112  673  636  694   30  670  \n",
      "5   212  111  211  205  220   91  212  \n",
      "..  ...  ...  ...  ...  ...  ...  ...  \n",
      "59  521  351  578   51  565  479  584  \n",
      "60  585  551  504  157  591  543  587  \n",
      "61  680  277  691  479  731  267  735  \n",
      "62  528  135  534  500  545  105  558  \n",
      "0   597  126  606  524  610  109  626  \n",
      "\n",
      "[63 rows x 67 columns]\n"
     ]
    }
   ],
   "source": [
    "print(df)"
   ]
  },
  {
   "cell_type": "code",
   "execution_count": 43,
   "metadata": {},
   "outputs": [],
   "source": [
    "# Split the dataset into features (X) and labels (y)\n",
    "X = df.drop(columns=['label'])  # Features (33 landmarks)\n",
    "y = df['label']  # Labels (numerical)\n"
   ]
  },
  {
   "cell_type": "code",
   "execution_count": 44,
   "metadata": {},
   "outputs": [
    {
     "data": {
      "text/plain": [
       "63"
      ]
     },
     "execution_count": 44,
     "metadata": {},
     "output_type": "execute_result"
    }
   ],
   "source": [
    "len(df['label'].unique())"
   ]
  },
  {
   "cell_type": "markdown",
   "metadata": {},
   "source": [
    "## Train & Evaluate Models"
   ]
  },
  {
   "cell_type": "code",
   "execution_count": 57,
   "metadata": {},
   "outputs": [
    {
     "name": "stdout",
     "output_type": "stream",
     "text": [
      "Accuracy: 0.00%\n"
     ]
    }
   ],
   "source": []
  },
  {
   "cell_type": "code",
   "execution_count": null,
   "metadata": {},
   "outputs": [],
   "source": []
  }
 ],
 "metadata": {
  "kernelspec": {
   "display_name": "Python 3",
   "language": "python",
   "name": "python3"
  },
  "language_info": {
   "codemirror_mode": {
    "name": "ipython",
    "version": 3
   },
   "file_extension": ".py",
   "mimetype": "text/x-python",
   "name": "python",
   "nbconvert_exporter": "python",
   "pygments_lexer": "ipython3",
   "version": "3.9.13"
  }
 },
 "nbformat": 4,
 "nbformat_minor": 2
}
