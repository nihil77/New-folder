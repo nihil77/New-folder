{
 "cells": [
  {
   "cell_type": "markdown",
   "metadata": {},
   "source": [
    "## Data preprocessing"
   ]
  },
  {
   "cell_type": "code",
   "execution_count": 79,
   "metadata": {},
   "outputs": [],
   "source": [
    "import cv2\n",
    "import numpy as np\n",
    "import pandas as pd\n",
    "import torch\n",
    "import torch.nn as nn\n",
    "import torch.optim as optim\n",
    "from torch.utils.data import DataLoader, TensorDataset\n"
   ]
  },
  {
   "cell_type": "code",
   "execution_count": 80,
   "metadata": {},
   "outputs": [],
   "source": [
    "\n",
    "# Load your dataset\n",
    "df = pd.read_csv('dataset.csv')"
   ]
  },
  {
   "cell_type": "code",
   "execution_count": 81,
   "metadata": {},
   "outputs": [],
   "source": [
    "# Check for missing values\n",
    "missing_values = df.isnull().sum()\n"
   ]
  },
  {
   "cell_type": "code",
   "execution_count": 82,
   "metadata": {},
   "outputs": [],
   "source": [
    "# Check for White Spaces\n",
    "df.columns = df.columns.str.strip()"
   ]
  },
  {
   "cell_type": "code",
   "execution_count": 83,
   "metadata": {},
   "outputs": [],
   "source": [
    "# Label Encoding\n",
    "from sklearn.preprocessing import LabelEncoder\n",
    "\n",
    "# Initialize the encoder\n",
    "label_encoder = LabelEncoder()\n",
    "\n",
    "# Encode the labels\n",
    "df['label'] = label_encoder.fit_transform(df['label'])\n"
   ]
  },
  {
   "cell_type": "code",
   "execution_count": 84,
   "metadata": {},
   "outputs": [],
   "source": [
    "# Feature Scaling\n",
    "from sklearn.preprocessing import StandardScaler\n",
    "\n",
    "# Initialize the scaler\n",
    "scaler = StandardScaler()\n",
    "\n",
    "# Scale the landmark coordinates (x and y)\n",
    "df.iloc[:, 1:] = scaler.fit_transform(df.iloc[:, 1:])\n"
   ]
  },
  {
   "cell_type": "code",
   "execution_count": 85,
   "metadata": {},
   "outputs": [],
   "source": [
    "# Function to apply data augmentation\n",
    "def augment_data(x, y):\n",
    "    # Combine x and y into landmark pairs\n",
    "    landmarks = list(zip(x, y))\n",
    "\n",
    "    # Random rotation (angle in degrees)\n",
    "    angle = np.random.uniform(-10, 10)\n",
    "    rotation_matrix = cv2.getRotationMatrix2D((0, 0), angle, 1)\n",
    "    rotated_landmarks = cv2.transform(np.array(landmarks)[None, ...], rotation_matrix)[0]\n",
    "\n",
    "    # Random translation\n",
    "    x_translation = np.random.uniform(-5, 5)\n",
    "    y_translation = np.random.uniform(-5, 5)\n",
    "    translated_landmarks = rotated_landmarks + [x_translation, y_translation]\n",
    "\n",
    "    return list(zip(*translated_landmarks))\n",
    "\n",
    "# Apply data augmentation to your dataset\n",
    "augmented_landmarks = []\n",
    "\n",
    "for _, row in df.iterrows():\n",
    "    x = row[1:34].tolist()  # Extract x coordinates\n",
    "    y = row[34:].tolist()    # Extract y coordinates\n",
    "    augmented_x, augmented_y = augment_data(x, y)\n",
    "    augmented_landmarks.append(augmented_x + augmented_y)\n",
    "\n",
    "# Create a new DataFrame with augmented data\n",
    "augmented_df = pd.DataFrame(augmented_landmarks, columns=df.columns[1:])\n",
    "\n",
    "# Concatenate the original and augmented DataFrames\n",
    "augmented_dataset = pd.concat([df, augmented_df])\n",
    "\n"
   ]
  },
  {
   "cell_type": "code",
   "execution_count": 86,
   "metadata": {},
   "outputs": [
    {
     "name": "stdout",
     "output_type": "stream",
     "text": [
      "    label        x1        y1        x2        y2        x3        y3  \\\n",
      "0       7 -0.183421  0.069315 -0.162536  0.061732 -0.155372  0.063275   \n",
      "1       0 -0.556643 -0.568918 -0.570981 -0.473468 -0.583750 -0.473002   \n",
      "2       0 -0.384387 -0.535327 -0.356010 -0.580508 -0.341002 -0.580257   \n",
      "3       0  0.484072  0.119702  0.403554  0.168772  0.372961  0.152654   \n",
      "4       0 -0.807850  1.060256 -0.778786  1.060773 -0.783660  1.064325   \n",
      "..    ...       ...       ...       ...       ...       ...       ...   \n",
      "58      4  2.199458  3.881919  2.180646  3.950854  2.179288  3.924469   \n",
      "59      4  0.132382  0.069315  0.081097 -0.080988  0.065957 -0.079732   \n",
      "60      4 -0.047051 -0.552122 -0.026388 -0.723228 -0.026859 -0.723264   \n",
      "61      5  0.749634  0.002133  0.776170 -0.080988  0.779920 -0.079732   \n",
      "62      6 -0.161889 -0.518531 -0.169702 -0.544828 -0.162512 -0.526630   \n",
      "\n",
      "          x4        y4        x5  ...       x29       y29       x30       y30  \\\n",
      "0  -0.148053  0.063435 -0.198172  ... -0.352796  0.790793  0.536681  0.694568   \n",
      "1  -0.589165 -0.474196 -0.512117  ...  0.053367 -1.275040 -0.653026 -1.272766   \n",
      "2  -0.325921 -0.599644 -0.366096  ... -0.277581  0.240684  0.583109  0.173308   \n",
      "3   0.342861  0.153040  0.480827  ... -0.375360 -0.315277 -0.008843 -0.353556   \n",
      "4  -0.781262  1.067013 -0.731149  ... -0.601007  1.036586  1.442019  1.030864   \n",
      "..       ...       ...       ...  ...       ...       ...       ...       ...   \n",
      "58  2.185567  3.898537  2.269586  ...  4.453466  1.071699  1.476840  0.515210   \n",
      "59  0.036929 -0.097855  0.101172  ...  1.399722  0.509886 -2.092282  0.268592   \n",
      "60 -0.027104 -0.743012  0.035462  ...  2.746077  0.392842 -0.838737  0.627308   \n",
      "61  0.798201 -0.062012  0.743665  ...  0.767913  1.288231  0.391595  1.159778   \n",
      "62 -0.155168 -0.527960 -0.183569  ... -0.300145  0.369433  0.414809  0.307827   \n",
      "\n",
      "         x31       y31       x32       y32       x33       y33  \n",
      "0  -0.381126  0.754676  0.542694  0.617171 -0.264514  0.719053  \n",
      "1   0.061121 -1.264021 -0.806617 -1.271993  0.064952 -1.298262  \n",
      "2  -0.213377  0.265639  0.306161  0.123653 -0.449015  0.194443  \n",
      "3  -0.548875 -0.371245  0.177143 -0.470691 -0.145906 -0.330167  \n",
      "4  -0.487875  1.135669  1.144777  1.062929 -0.785070  0.957021  \n",
      "..       ...       ...       ...       ...       ...       ...  \n",
      "58  4.453085  0.817227  1.021135  0.569411  4.315062  1.032738  \n",
      "59  1.334485  0.595455 -2.000032  0.378372  2.173534  0.491903  \n",
      "60  2.859473  0.174656 -1.430203  0.516345  2.595250  0.508128  \n",
      "61  0.770240  1.238026  0.300786  1.259274  0.776598  1.308564  \n",
      "62 -0.312501  0.345250  0.413676  0.272239 -0.290871  0.351285  \n",
      "\n",
      "[63 rows x 67 columns]\n"
     ]
    }
   ],
   "source": [
    "print(df)"
   ]
  },
  {
   "cell_type": "markdown",
   "metadata": {},
   "source": [
    "## Data splitting"
   ]
  },
  {
   "cell_type": "code",
   "execution_count": 87,
   "metadata": {},
   "outputs": [
    {
     "name": "stdout",
     "output_type": "stream",
     "text": [
      "X_train shape: (44, 66)\n",
      "X_val shape: (9, 66)\n",
      "X_test shape: (10, 66)\n"
     ]
    }
   ],
   "source": [
    "from sklearn.model_selection import train_test_split\n",
    "\n",
    "# Assuming 'df' is your DataFrame containing the dataset\n",
    "X = df.iloc[:, 1:]  # Extract features from all columns except the first (which is 'label')\n",
    "y = df['label']  # Extract the 'label' column as the target\n",
    "\n",
    "# Split the data into training (70%), validation (15%), and test (15%) sets\n",
    "X_train, X_temp, y_train, y_temp = train_test_split(X, y, test_size=0.3, random_state=42)\n",
    "X_val, X_test, y_val, y_test = train_test_split(X_temp, y_temp, test_size=0.5, random_state=42)\n",
    "\n",
    "# You can print the shapes of the resulting sets to verify the split\n",
    "print(\"X_train shape:\", X_train.shape)\n",
    "print(\"X_val shape:\", X_val.shape)\n",
    "print(\"X_test shape:\", X_test.shape)\n"
   ]
  },
  {
   "cell_type": "code",
   "execution_count": 88,
   "metadata": {},
   "outputs": [
    {
     "name": "stdout",
     "output_type": "stream",
     "text": [
      "Number of classes: 8\n"
     ]
    }
   ],
   "source": [
    "# Count the number of unique classes in the 'label' column\n",
    "num_classes = len(df['label'].unique())\n",
    "\n",
    "print(\"Number of classes:\", num_classes)"
   ]
  },
  {
   "cell_type": "markdown",
   "metadata": {},
   "source": [
    "## Feedforward Neural Network Model"
   ]
  },
  {
   "cell_type": "code",
   "execution_count": 89,
   "metadata": {},
   "outputs": [
    {
     "data": {
      "text/html": [
       "<div>\n",
       "<style scoped>\n",
       "    .dataframe tbody tr th:only-of-type {\n",
       "        vertical-align: middle;\n",
       "    }\n",
       "\n",
       "    .dataframe tbody tr th {\n",
       "        vertical-align: top;\n",
       "    }\n",
       "\n",
       "    .dataframe thead th {\n",
       "        text-align: right;\n",
       "    }\n",
       "</style>\n",
       "<table border=\"1\" class=\"dataframe\">\n",
       "  <thead>\n",
       "    <tr style=\"text-align: right;\">\n",
       "      <th></th>\n",
       "      <th>label</th>\n",
       "      <th>x1</th>\n",
       "      <th>y1</th>\n",
       "      <th>x2</th>\n",
       "      <th>y2</th>\n",
       "      <th>x3</th>\n",
       "      <th>y3</th>\n",
       "      <th>x4</th>\n",
       "      <th>y4</th>\n",
       "      <th>x5</th>\n",
       "      <th>...</th>\n",
       "      <th>x29</th>\n",
       "      <th>y29</th>\n",
       "      <th>x30</th>\n",
       "      <th>y30</th>\n",
       "      <th>x31</th>\n",
       "      <th>y31</th>\n",
       "      <th>x32</th>\n",
       "      <th>y32</th>\n",
       "      <th>x33</th>\n",
       "      <th>y33</th>\n",
       "    </tr>\n",
       "  </thead>\n",
       "  <tbody>\n",
       "    <tr>\n",
       "      <th>0</th>\n",
       "      <td>7</td>\n",
       "      <td>-0.183421</td>\n",
       "      <td>0.069315</td>\n",
       "      <td>-0.162536</td>\n",
       "      <td>0.061732</td>\n",
       "      <td>-0.155372</td>\n",
       "      <td>0.063275</td>\n",
       "      <td>-0.148053</td>\n",
       "      <td>0.063435</td>\n",
       "      <td>-0.198172</td>\n",
       "      <td>...</td>\n",
       "      <td>-0.352796</td>\n",
       "      <td>0.790793</td>\n",
       "      <td>0.536681</td>\n",
       "      <td>0.694568</td>\n",
       "      <td>-0.381126</td>\n",
       "      <td>0.754676</td>\n",
       "      <td>0.542694</td>\n",
       "      <td>0.617171</td>\n",
       "      <td>-0.264514</td>\n",
       "      <td>0.719053</td>\n",
       "    </tr>\n",
       "    <tr>\n",
       "      <th>1</th>\n",
       "      <td>0</td>\n",
       "      <td>-0.556643</td>\n",
       "      <td>-0.568918</td>\n",
       "      <td>-0.570981</td>\n",
       "      <td>-0.473468</td>\n",
       "      <td>-0.583750</td>\n",
       "      <td>-0.473002</td>\n",
       "      <td>-0.589165</td>\n",
       "      <td>-0.474196</td>\n",
       "      <td>-0.512117</td>\n",
       "      <td>...</td>\n",
       "      <td>0.053367</td>\n",
       "      <td>-1.275040</td>\n",
       "      <td>-0.653026</td>\n",
       "      <td>-1.272766</td>\n",
       "      <td>0.061121</td>\n",
       "      <td>-1.264021</td>\n",
       "      <td>-0.806617</td>\n",
       "      <td>-1.271993</td>\n",
       "      <td>0.064952</td>\n",
       "      <td>-1.298262</td>\n",
       "    </tr>\n",
       "    <tr>\n",
       "      <th>2</th>\n",
       "      <td>0</td>\n",
       "      <td>-0.384387</td>\n",
       "      <td>-0.535327</td>\n",
       "      <td>-0.356010</td>\n",
       "      <td>-0.580508</td>\n",
       "      <td>-0.341002</td>\n",
       "      <td>-0.580257</td>\n",
       "      <td>-0.325921</td>\n",
       "      <td>-0.599644</td>\n",
       "      <td>-0.366096</td>\n",
       "      <td>...</td>\n",
       "      <td>-0.277581</td>\n",
       "      <td>0.240684</td>\n",
       "      <td>0.583109</td>\n",
       "      <td>0.173308</td>\n",
       "      <td>-0.213377</td>\n",
       "      <td>0.265639</td>\n",
       "      <td>0.306161</td>\n",
       "      <td>0.123653</td>\n",
       "      <td>-0.449015</td>\n",
       "      <td>0.194443</td>\n",
       "    </tr>\n",
       "    <tr>\n",
       "      <th>3</th>\n",
       "      <td>0</td>\n",
       "      <td>0.484072</td>\n",
       "      <td>0.119702</td>\n",
       "      <td>0.403554</td>\n",
       "      <td>0.168772</td>\n",
       "      <td>0.372961</td>\n",
       "      <td>0.152654</td>\n",
       "      <td>0.342861</td>\n",
       "      <td>0.153040</td>\n",
       "      <td>0.480827</td>\n",
       "      <td>...</td>\n",
       "      <td>-0.375360</td>\n",
       "      <td>-0.315277</td>\n",
       "      <td>-0.008843</td>\n",
       "      <td>-0.353556</td>\n",
       "      <td>-0.548875</td>\n",
       "      <td>-0.371245</td>\n",
       "      <td>0.177143</td>\n",
       "      <td>-0.470691</td>\n",
       "      <td>-0.145906</td>\n",
       "      <td>-0.330167</td>\n",
       "    </tr>\n",
       "    <tr>\n",
       "      <th>4</th>\n",
       "      <td>0</td>\n",
       "      <td>-0.807850</td>\n",
       "      <td>1.060256</td>\n",
       "      <td>-0.778786</td>\n",
       "      <td>1.060773</td>\n",
       "      <td>-0.783660</td>\n",
       "      <td>1.064325</td>\n",
       "      <td>-0.781262</td>\n",
       "      <td>1.067013</td>\n",
       "      <td>-0.731149</td>\n",
       "      <td>...</td>\n",
       "      <td>-0.601007</td>\n",
       "      <td>1.036586</td>\n",
       "      <td>1.442019</td>\n",
       "      <td>1.030864</td>\n",
       "      <td>-0.487875</td>\n",
       "      <td>1.135669</td>\n",
       "      <td>1.144777</td>\n",
       "      <td>1.062929</td>\n",
       "      <td>-0.785070</td>\n",
       "      <td>0.957021</td>\n",
       "    </tr>\n",
       "  </tbody>\n",
       "</table>\n",
       "<p>5 rows × 67 columns</p>\n",
       "</div>"
      ],
      "text/plain": [
       "   label        x1        y1        x2        y2        x3        y3  \\\n",
       "0      7 -0.183421  0.069315 -0.162536  0.061732 -0.155372  0.063275   \n",
       "1      0 -0.556643 -0.568918 -0.570981 -0.473468 -0.583750 -0.473002   \n",
       "2      0 -0.384387 -0.535327 -0.356010 -0.580508 -0.341002 -0.580257   \n",
       "3      0  0.484072  0.119702  0.403554  0.168772  0.372961  0.152654   \n",
       "4      0 -0.807850  1.060256 -0.778786  1.060773 -0.783660  1.064325   \n",
       "\n",
       "         x4        y4        x5  ...       x29       y29       x30       y30  \\\n",
       "0 -0.148053  0.063435 -0.198172  ... -0.352796  0.790793  0.536681  0.694568   \n",
       "1 -0.589165 -0.474196 -0.512117  ...  0.053367 -1.275040 -0.653026 -1.272766   \n",
       "2 -0.325921 -0.599644 -0.366096  ... -0.277581  0.240684  0.583109  0.173308   \n",
       "3  0.342861  0.153040  0.480827  ... -0.375360 -0.315277 -0.008843 -0.353556   \n",
       "4 -0.781262  1.067013 -0.731149  ... -0.601007  1.036586  1.442019  1.030864   \n",
       "\n",
       "        x31       y31       x32       y32       x33       y33  \n",
       "0 -0.381126  0.754676  0.542694  0.617171 -0.264514  0.719053  \n",
       "1  0.061121 -1.264021 -0.806617 -1.271993  0.064952 -1.298262  \n",
       "2 -0.213377  0.265639  0.306161  0.123653 -0.449015  0.194443  \n",
       "3 -0.548875 -0.371245  0.177143 -0.470691 -0.145906 -0.330167  \n",
       "4 -0.487875  1.135669  1.144777  1.062929 -0.785070  0.957021  \n",
       "\n",
       "[5 rows x 67 columns]"
      ]
     },
     "execution_count": 89,
     "metadata": {},
     "output_type": "execute_result"
    }
   ],
   "source": [
    "data = df\n",
    "\n",
    "data.head()"
   ]
  },
  {
   "cell_type": "code",
   "execution_count": 90,
   "metadata": {},
   "outputs": [
    {
     "name": "stdout",
     "output_type": "stream",
     "text": [
      "Validation Accuracy: 0.5555555555555556\n"
     ]
    }
   ],
   "source": [
    "from sklearn.model_selection import train_test_split\n",
    "from sklearn.model_selection import GridSearchCV\n",
    "from sklearn.ensemble import RandomForestClassifier\n",
    "from sklearn.metrics import accuracy_score\n",
    "\n",
    "model = RandomForestClassifier()\n",
    "\n",
    "model.fit(X_train, y_train)\n",
    "\n",
    "# Step 5: Evaluate on the validation set\n",
    "y_val_pred = model.predict(X_val)\n",
    "val_accuracy = accuracy_score(y_val, y_val_pred)\n",
    "print(\"Validation Accuracy:\", val_accuracy)"
   ]
  },
  {
   "cell_type": "code",
   "execution_count": 91,
   "metadata": {},
   "outputs": [
    {
     "name": "stderr",
     "output_type": "stream",
     "text": [
      "c:\\Users\\john\\AppData\\Local\\Programs\\Python\\Python39\\lib\\site-packages\\sklearn\\model_selection\\_split.py:737: UserWarning: The least populated class in y has only 1 members, which is less than n_splits=3.\n",
      "  warnings.warn(\n"
     ]
    }
   ],
   "source": [
    "param_grid = {'n_estimators': [50, 100, 200], 'max_depth': [None, 10, 20]}\n",
    "grid_search = GridSearchCV(model, param_grid, cv=3)\n",
    "grid_search.fit(X_train, y_train)\n",
    "best_model = grid_search.best_estimator_"
   ]
  },
  {
   "cell_type": "code",
   "execution_count": 92,
   "metadata": {},
   "outputs": [
    {
     "name": "stdout",
     "output_type": "stream",
     "text": [
      "Test Accuracy: 0.5\n"
     ]
    }
   ],
   "source": [
    "y_test_pred = best_model.predict(X_test)\n",
    "test_accuracy = accuracy_score(y_test, y_test_pred)\n",
    "print(\"Test Accuracy:\", test_accuracy)"
   ]
  }
 ],
 "metadata": {
  "kernelspec": {
   "display_name": "Python 3",
   "language": "python",
   "name": "python3"
  },
  "language_info": {
   "codemirror_mode": {
    "name": "ipython",
    "version": 3
   },
   "file_extension": ".py",
   "mimetype": "text/x-python",
   "name": "python",
   "nbconvert_exporter": "python",
   "pygments_lexer": "ipython3",
   "version": "3.9.13"
  }
 },
 "nbformat": 4,
 "nbformat_minor": 2
}
